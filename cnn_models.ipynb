{
 "cells": [
  {
   "cell_type": "markdown",
   "id": "befa3cc5-632e-481a-8175-dda9d28a67e3",
   "metadata": {},
   "source": [
    "# <center> CNN Model for Text\n",
    "</center>"
   ]
  },
  {
   "cell_type": "code",
   "execution_count": null,
   "id": "e1642610-a448-48d4-a1e8-2c4720512604",
   "metadata": {},
   "outputs": [],
   "source": [
    "import os\n",
    "import pickle\n",
    "import numpy as np\n",
    "import tensorflow as tf\n",
    "from tensorflow import keras\n",
    "from tensorflow.keras.preprocessing.text import Tokenizer\n",
    "from tensorflow.keras.preprocessing.sequence import pad_sequences\n",
    "from tensorflow.keras.models import Model\n",
    "from tensorflow.keras.layers import Input, Dense,Embedding,GlobalMaxPooling1D, Conv1D\n",
    "import matplotlib.pyplot as plt\n",
    "tf.config.run_functions_eagerly(True)"
   ]
  },
  {
   "cell_type": "markdown",
   "id": "12677dee-a52a-477a-b6b7-39b4c58b1342",
   "metadata": {},
   "source": [
    "# Generic Functions"
   ]
  },
  {
   "cell_type": "code",
   "execution_count": 3,
   "id": "ed7a60d3-53c0-480d-9f9f-51aaf16bef49",
   "metadata": {},
   "outputs": [],
   "source": [
    "labels=pickle.load( open('labels.pkl', 'rb'))\n",
    "features=pickle.load( open('features.pkl', 'rb'))\n",
    "features_tfidf= pickle.load( open('features_tfidf.pkl', 'rb'))\n",
    "word_tfidf_weights=pickle.load( open('word_tfidf_weights.pkl', 'rb'))\n",
    "non_text_features_np = features.drop(columns=['title', 'text', 'combined_text', 'label']).to_numpy()"
   ]
  },
  {
   "cell_type": "code",
   "execution_count": 4,
   "id": "300017ba-f61f-489b-86ca-522c952662fd",
   "metadata": {},
   "outputs": [],
   "source": [
    "def plot_loss_acc(history):\n",
    "    \n",
    "    plt.plot(history.history['loss'], label='Training Loss')\n",
    "    plt.plot(history.history['val_loss'], label='Validation Loss')\n",
    "    plt.xlabel('Epochs')\n",
    "    plt.ylabel('Loss')\n",
    "    plt.legend()\n",
    "    plt.show()\n",
    "\n",
    "    plt.plot(history.history['accuracy'], label='Training Accuracy')\n",
    "    plt.plot(history.history['val_accuracy'], label='Validation Accuracy')\n",
    "    plt.xlabel('Epochs')\n",
    "    plt.ylabel('Accuracy')\n",
    "    plt.legend()\n",
    "    plt.show()"
   ]
  },
  {
   "cell_type": "markdown",
   "id": "f6a51cd7-b35d-4ac2-aa1c-daa63a256210",
   "metadata": {},
   "source": [
    "# Data Processing"
   ]
  },
  {
   "cell_type": "code",
   "execution_count": 5,
   "id": "1daad8f1-d9cf-4ef7-8e04-849d8e1cb335",
   "metadata": {},
   "outputs": [],
   "source": [
    "train_texts = features[\"combined_text\"]\n",
    "tokenizer = keras.preprocessing.text.Tokenizer()\n",
    "tokenizer.fit_on_texts(train_texts) \n",
    "train_sequences = tokenizer.texts_to_sequences(train_texts)\n",
    "train_data = keras.preprocessing.sequence.pad_sequences(train_sequences, maxlen=400)\n",
    "vocab_size = len(tokenizer.word_index) + 1"
   ]
  },
  {
   "cell_type": "code",
   "execution_count": 6,
   "id": "718d33d4-9f21-427e-a724-673569606460",
   "metadata": {},
   "outputs": [
    {
     "name": "stdout",
     "output_type": "stream",
     "text": [
      "Training set shape: (45783, 400)\n",
      "Validation set shape: (11446, 400)\n",
      "Test set shape: (14308, 400)\n"
     ]
    }
   ],
   "source": [
    "train_ft,test_ft,train_labels,test_labels=train_test_split(train_data,labels,test_size=0.2, train_size=0.8)\n",
    "X_train, X_val, y_train, y_val = train_test_split(train_ft, train_labels, test_size=0.2, random_state=42)\n",
    "\n",
    "print(\"Training set shape:\", X_train.shape)\n",
    "print(\"Validation set shape:\", X_val.shape)\n",
    "print(\"Test set shape:\", test_ft.shape)"
   ]
  },
  {
   "cell_type": "markdown",
   "id": "97187eab-d835-4de8-84ff-8050ab4e733e",
   "metadata": {},
   "source": [
    "# CNN Model"
   ]
  },
  {
   "cell_type": "code",
   "execution_count": 20,
   "id": "31d94bbd-0756-4bfd-9d41-75554bf51041",
   "metadata": {},
   "outputs": [],
   "source": [
    "class cnn_model(tf.keras.models.Model):\n",
    "    def __init__(self,vocab_size):\n",
    "        super(cnn_model,self).__init__()\n",
    "        self.embed= Embedding(input_dim=vocab_size, output_dim=200, input_length=400)\n",
    "        self.conv_1=Conv1D(filters=32, kernel_size=4, activation=\"relu\",padding=\"same\")\n",
    "        #self.global_pool_1=GlobalMaxPooling1D()\n",
    "        self.conv_2=Conv1D(filters=16, kernel_size=3,activation=\"relu\",padding=\"same\")\n",
    "        self.global_pool_2=GlobalMaxPooling1D()\n",
    "        self.dense_1=Dense(32,activation=\"relu\")\n",
    "        self.dense_2=Dense(1,activation=\"sigmoid\")\n",
    "        \n",
    "    def call(self,inputs):\n",
    "        x=self.embed(inputs)\n",
    "        x=self.conv_1(x)\n",
    "        #x=self.global_pool_1(x)\n",
    "        x=self.conv_2(x)\n",
    "        x=self.global_pool_2(x)\n",
    "        x=self.dense_1(x)\n",
    "        x=self.dense_2(x)\n",
    "        \n",
    "        return x"
   ]
  },
  {
   "cell_type": "code",
   "execution_count": 21,
   "id": "3cfba0ab-0954-4dc7-89e3-2f4bb59b0b61",
   "metadata": {},
   "outputs": [
    {
     "name": "stdout",
     "output_type": "stream",
     "text": [
      "Model: \"cnn_model_5\"\n",
      "_________________________________________________________________\n",
      " Layer (type)                Output Shape              Param #   \n",
      "=================================================================\n",
      " embedding_5 (Embedding)     multiple                  69779400  \n",
      "                                                                 \n",
      " conv1d_10 (Conv1D)          multiple                  25632     \n",
      "                                                                 \n",
      " conv1d_11 (Conv1D)          multiple                  1552      \n",
      "                                                                 \n",
      " global_max_pooling1d_10 (Gl  multiple                 0         \n",
      " obalMaxPooling1D)                                               \n",
      "                                                                 \n",
      " dense_10 (Dense)            multiple                  544       \n",
      "                                                                 \n",
      " dense_11 (Dense)            multiple                  33        \n",
      "                                                                 \n",
      "=================================================================\n",
      "Total params: 69,807,161\n",
      "Trainable params: 69,807,161\n",
      "Non-trainable params: 0\n",
      "_________________________________________________________________\n",
      "None\n"
     ]
    }
   ],
   "source": [
    "cnn=cnn_model(vocab_size)\n",
    "cnn.build((None,400))\n",
    "print(cnn.summary())"
   ]
  },
  {
   "cell_type": "markdown",
   "id": "dfc74f41-2b1d-481a-9a5c-d65218da62c9",
   "metadata": {},
   "source": [
    "## Configuring model"
   ]
  },
  {
   "cell_type": "code",
   "execution_count": 23,
   "id": "c8a0c7c5-1f1d-46de-a9d4-e3b9fc47ec98",
   "metadata": {},
   "outputs": [],
   "source": [
    "# Comfiguring the model\n",
    "opt=keras.optimizers.Adam(learning_rate=0.001)\n",
    "cnn.compile(loss=\"binary_crossentropy\", optimizer=opt,metrics=[\"accuracy\"])\n",
    "\n",
    "# early stopping if the validation loss doesnt improve after 3 epochs\n",
    "early_stop= tf.keras.callbacks.EarlyStopping(monitor=\"val_loss\", patience=3)\n",
    "\n",
    "# saving the model\n",
    "save_model=tf.keras.callbacks.ModelCheckpoint(\"cnn_model\", save_best_only=True)"
   ]
  },
  {
   "cell_type": "code",
   "execution_count": 24,
   "id": "b287b126-cc30-41a4-8f47-244491946246",
   "metadata": {},
   "outputs": [
    {
     "name": "stdout",
     "output_type": "stream",
     "text": [
      "Epoch 1/20\n"
     ]
    },
    {
     "name": "stderr",
     "output_type": "stream",
     "text": [
      "C:\\Users\\jashi\\anaconda3\\lib\\site-packages\\tensorflow\\python\\data\\ops\\structured_function.py:264: UserWarning: Even though the `tf.config.experimental_run_functions_eagerly` option is set, this option does not apply to tf.data functions. To force eager execution of tf.data functions, please use `tf.data.experimental.enable_debug_mode()`.\n",
      "  warnings.warn(\n"
     ]
    },
    {
     "name": "stdout",
     "output_type": "stream",
     "text": [
      "1789/1789 [==============================] - ETA: 0s - loss: 0.1373 - accuracy: 0.9422"
     ]
    },
    {
     "name": "stderr",
     "output_type": "stream",
     "text": [
      "WARNING:absl:Found untraced functions such as _jit_compiled_convolution_op, _jit_compiled_convolution_op while saving (showing 2 of 2). These functions will not be directly callable after loading.\n"
     ]
    },
    {
     "name": "stdout",
     "output_type": "stream",
     "text": [
      "INFO:tensorflow:Assets written to: cnn_model\\assets\n"
     ]
    },
    {
     "name": "stderr",
     "output_type": "stream",
     "text": [
      "INFO:tensorflow:Assets written to: cnn_model\\assets\n"
     ]
    },
    {
     "name": "stdout",
     "output_type": "stream",
     "text": [
      "1789/1789 [==============================] - 1582s 884ms/step - loss: 0.1373 - accuracy: 0.9422 - val_loss: 0.0324 - val_accuracy: 0.9904\n",
      "Epoch 2/20\n",
      "1789/1789 [==============================] - ETA: 0s - loss: 0.0249 - accuracy: 0.9920"
     ]
    },
    {
     "name": "stderr",
     "output_type": "stream",
     "text": [
      "WARNING:absl:Found untraced functions such as _jit_compiled_convolution_op, _jit_compiled_convolution_op while saving (showing 2 of 2). These functions will not be directly callable after loading.\n"
     ]
    },
    {
     "name": "stdout",
     "output_type": "stream",
     "text": [
      "INFO:tensorflow:Assets written to: cnn_model\\assets\n"
     ]
    },
    {
     "name": "stderr",
     "output_type": "stream",
     "text": [
      "INFO:tensorflow:Assets written to: cnn_model\\assets\n"
     ]
    },
    {
     "name": "stdout",
     "output_type": "stream",
     "text": [
      "1789/1789 [==============================] - 1530s 855ms/step - loss: 0.0249 - accuracy: 0.9920 - val_loss: 0.0072 - val_accuracy: 0.9980\n",
      "Epoch 3/20\n",
      "1789/1789 [==============================] - ETA: 0s - loss: 0.0041 - accuracy: 0.9989"
     ]
    },
    {
     "name": "stderr",
     "output_type": "stream",
     "text": [
      "WARNING:absl:Found untraced functions such as _jit_compiled_convolution_op, _jit_compiled_convolution_op while saving (showing 2 of 2). These functions will not be directly callable after loading.\n"
     ]
    },
    {
     "name": "stdout",
     "output_type": "stream",
     "text": [
      "INFO:tensorflow:Assets written to: cnn_model\\assets\n"
     ]
    },
    {
     "name": "stderr",
     "output_type": "stream",
     "text": [
      "INFO:tensorflow:Assets written to: cnn_model\\assets\n"
     ]
    },
    {
     "name": "stdout",
     "output_type": "stream",
     "text": [
      "1789/1789 [==============================] - 1516s 848ms/step - loss: 0.0041 - accuracy: 0.9989 - val_loss: 0.0057 - val_accuracy: 0.9997\n",
      "Epoch 4/20\n",
      "1789/1789 [==============================] - ETA: 0s - loss: 0.0036 - accuracy: 0.9991"
     ]
    },
    {
     "name": "stderr",
     "output_type": "stream",
     "text": [
      "WARNING:absl:Found untraced functions such as _jit_compiled_convolution_op, _jit_compiled_convolution_op while saving (showing 2 of 2). These functions will not be directly callable after loading.\n"
     ]
    },
    {
     "name": "stdout",
     "output_type": "stream",
     "text": [
      "INFO:tensorflow:Assets written to: cnn_model\\assets\n"
     ]
    },
    {
     "name": "stderr",
     "output_type": "stream",
     "text": [
      "INFO:tensorflow:Assets written to: cnn_model\\assets\n"
     ]
    },
    {
     "name": "stdout",
     "output_type": "stream",
     "text": [
      "1789/1789 [==============================] - 1573s 880ms/step - loss: 0.0036 - accuracy: 0.9991 - val_loss: 6.4260e-04 - val_accuracy: 0.9999\n",
      "Epoch 5/20\n",
      "1789/1789 [==============================] - 1564s 874ms/step - loss: 0.0040 - accuracy: 0.9988 - val_loss: 0.0016 - val_accuracy: 0.9995\n",
      "Epoch 6/20\n",
      "1789/1789 [==============================] - ETA: 0s - loss: 0.0039 - accuracy: 0.9991"
     ]
    },
    {
     "name": "stderr",
     "output_type": "stream",
     "text": [
      "WARNING:absl:Found untraced functions such as _jit_compiled_convolution_op, _jit_compiled_convolution_op while saving (showing 2 of 2). These functions will not be directly callable after loading.\n"
     ]
    },
    {
     "name": "stdout",
     "output_type": "stream",
     "text": [
      "INFO:tensorflow:Assets written to: cnn_model\\assets\n"
     ]
    },
    {
     "name": "stderr",
     "output_type": "stream",
     "text": [
      "INFO:tensorflow:Assets written to: cnn_model\\assets\n"
     ]
    },
    {
     "name": "stdout",
     "output_type": "stream",
     "text": [
      "1789/1789 [==============================] - 1634s 913ms/step - loss: 0.0039 - accuracy: 0.9991 - val_loss: 4.5386e-04 - val_accuracy: 0.9999\n",
      "Epoch 7/20\n",
      "1789/1789 [==============================] - ETA: 0s - loss: 0.0017 - accuracy: 0.9997"
     ]
    },
    {
     "name": "stderr",
     "output_type": "stream",
     "text": [
      "WARNING:absl:Found untraced functions such as _jit_compiled_convolution_op, _jit_compiled_convolution_op while saving (showing 2 of 2). These functions will not be directly callable after loading.\n"
     ]
    },
    {
     "name": "stdout",
     "output_type": "stream",
     "text": [
      "INFO:tensorflow:Assets written to: cnn_model\\assets\n"
     ]
    },
    {
     "name": "stderr",
     "output_type": "stream",
     "text": [
      "INFO:tensorflow:Assets written to: cnn_model\\assets\n"
     ]
    },
    {
     "name": "stdout",
     "output_type": "stream",
     "text": [
      "1789/1789 [==============================] - 1617s 904ms/step - loss: 0.0017 - accuracy: 0.9997 - val_loss: 3.7970e-04 - val_accuracy: 0.9999\n",
      "Epoch 8/20\n",
      "1789/1789 [==============================] - 1563s 874ms/step - loss: 0.0021 - accuracy: 0.9997 - val_loss: 0.0026 - val_accuracy: 0.9997\n",
      "Epoch 9/20\n",
      "1789/1789 [==============================] - 1523s 852ms/step - loss: 0.0013 - accuracy: 0.9998 - val_loss: 4.4306e-04 - val_accuracy: 0.9998\n",
      "Epoch 10/20\n",
      "1789/1789 [==============================] - 1520s 850ms/step - loss: 0.0010 - accuracy: 0.9997 - val_loss: 0.0086 - val_accuracy: 0.9977\n"
     ]
    }
   ],
   "source": [
    "history=cnn.fit(\n",
    "    train_ft, \n",
    "    train_labels, \n",
    "    epochs=20, \n",
    "    batch_size=32, \n",
    "    validation_data=(X_val, y_val),\n",
    "    callbacks=[save_model,early_stop])"
   ]
  },
  {
   "cell_type": "code",
   "execution_count": 25,
   "id": "cc510dbe-ee83-4221-9841-fe1a2fe30012",
   "metadata": {},
   "outputs": [
    {
     "data": {
      "image/png": "[encoded data removed]",
      "text/plain": [
       "<Figure size 640x480 with 1 Axes>"
      ]
     },
     "metadata": {},
     "output_type": "display_data"
    },
    {
     "data": {
      "image/png": "[encoded data removed]",
      "text/plain": [
       "<Figure size 640x480 with 1 Axes>"
      ]
     },
     "metadata": {},
     "output_type": "display_data"
    }
   ],
   "source": [
    "plot_loss_acc(history)"
   ]
  },
  {
   "cell_type": "markdown",
   "id": "845942cc-4902-46d5-a70f-c461138e69c6",
   "metadata": {},
   "source": [
    "# Loading model"
   ]
  },
  {
   "cell_type": "code",
   "execution_count": 26,
   "id": "5f156763-620e-4082-8de4-9a0c26e2b234",
   "metadata": {},
   "outputs": [],
   "source": [
    "loaded_model = tf.keras.models.load_model('cnn_model')"
   ]
  },
  {
   "cell_type": "code",
   "execution_count": 28,
   "id": "71dd3f49-bc65-40c4-861a-c56173448edd",
   "metadata": {},
   "outputs": [
    {
     "name": "stdout",
     "output_type": "stream",
     "text": [
      "448/448 [==============================] - 6s 14ms/step - loss: 0.1448 - accuracy: 0.9709\n",
      " Accuracy : 97.08554744720459 \n",
      " Loss : 0.14482292532920837\n"
     ]
    }
   ],
   "source": [
    "metrics=loaded_model.evaluate(test_ft,test_labels)\n",
    "print(f\" Accuracy : {metrics[1]*100} \\n Loss : {metrics[0]}\")"
   ]
  },
  {
   "cell_type": "code",
   "execution_count": null,
   "id": "61687821-29b9-494c-aa15-8f11a8a0ccf5",
   "metadata": {},
   "outputs": [],
   "source": []
  }
 ],
 "metadata": {
  "kernelspec": {
   "display_name": "Python 3",
   "language": "python",
   "name": "python3"
  },
  "language_info": {
   "codemirror_mode": {
    "name": "ipython",
    "version": 3
   },
   "file_extension": ".py",
   "mimetype": "text/x-python",
   "name": "python",
   "nbconvert_exporter": "python",
   "pygments_lexer": "ipython3",
   "version": "3.9.18"
  }
 },
 "nbformat": 4,
 "nbformat_minor": 5
}
